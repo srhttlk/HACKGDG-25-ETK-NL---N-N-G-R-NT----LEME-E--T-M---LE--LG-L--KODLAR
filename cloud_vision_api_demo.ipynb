{
  "cells": [
    {
      "cell_type": "markdown",
      "metadata": {},
      "source": [
        "# \ud83d\udcf7 Google Cloud Vision API Demo\n",
        "Bu demo, bir g\u00f6rseldeki nesneleri ve etiketleri Vision API ile tan\u0131mlar."
      ]
    },
    {
      "cell_type": "code",
      "metadata": {},
      "source": [
        "# \u26a0\ufe0f NOT: \u00c7al\u0131\u015ft\u0131rmak i\u00e7in bir Google Cloud hesab\u0131n\u0131z ve API anahtar\u0131n\u0131z olmas\u0131 gerekir.\n",
        "# 1. google-cloud-vision paketini kurun\n",
        "!pip install --upgrade google-cloud-vision"
      ]
    },
    {
      "cell_type": "code",
      "metadata": {},
      "source": [
        "from google.cloud import vision\n",
        "import io\n\n",
        "# \u0130stemci olu\u015ftur\n",
        "client = vision.ImageAnnotatorClient()\n\n",
        "# G\u00f6rsel dosyas\u0131n\u0131 oku\n",
        "with io.open('ornek.jpg', 'rb') as image_file:\n",
        "    content = image_file.read()\n",
        "image = vision.Image(content=content)\n\n",
        "# Etiket tespiti\n",
        "response = client.label_detection(image=image)\n",
        "labels = response.label_annotations\n\n",
        "for label in labels:\n",
        "    print(label.description, label.score)"
      ]
    }
  ],
  "metadata": {
    "kernelspec": {
      "display_name": "Python 3",
      "language": "python",
      "name": "python3"
    },
    "language_info": {
      "name": "python",
      "version": "3.9"
    }
  },
  "nbformat": 4,
  "nbformat_minor": 5
}