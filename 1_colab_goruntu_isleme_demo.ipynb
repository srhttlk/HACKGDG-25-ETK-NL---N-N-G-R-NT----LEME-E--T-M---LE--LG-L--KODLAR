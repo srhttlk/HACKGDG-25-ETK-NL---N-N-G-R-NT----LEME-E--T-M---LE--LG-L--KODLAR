{
  "cells": [
    {
      "cell_type": "markdown",
      "metadata": {},
      "source": [
        "# 🎯 Google Colab ile Görüntü İşleme Demo\n",
        "Bu notebook, temel görüntü işleme adımlarını göstermek için hazırlanmıştır.\n",
        "- Görsel yükleme\n",
        "- Griye çevirme\n",
        "- Kenar bulma\n",
        "- Yüz tespiti (Haar Cascade ile)"
      ]
    },
    {
      "cell_type": "code",
      "execution_count": null,
      "metadata": {},
      "outputs": [],
      "source": [
        "#  Gerekli Kütüphanelerin Kurulumu\n",
        "!pip install opencv-python\n",
        "!pip install opencv-python-headless"
      ]
    },
    {
      "cell_type": "code",
      "execution_count": null,
      "metadata": {},
      "outputs": [],
      "source": [
        "# 📷 Görseli Yükleme ve Gösterme\n",
        "import cv2\n",
        "from google.colab.patches import cv2_imshow\n",
        "\n",
        "# Görselin yolu \n",
        "image_path = \"ornek.jpg\"\n",
        "image = cv2.imread(image_path)\n",
        "\n",
        "# Görseli göster\n",
        "cv2_imshow(image)"
      ]
    },
    {
      "cell_type": "code",
      "execution_count": null,
      "metadata": {},
      "outputs": [],
      "source": [
        "# 🌗 Görseli Griye Çevir ve Kenarları Bul\n",
        "gray = cv2.cvtColor(image, cv2.COLOR_BGR2GRAY)\n",
        "cv2_imshow(gray)\n",
        "\n",
        "# Kenar bulma (Canny)\n",
        "edges = cv2.Canny(gray, 100, 200)\n",
        "cv2_imshow(edges)"
      ]
    },
    {
      "cell_type": "code",
      "execution_count": null,
      "metadata": {},
      "outputs": [],
      "source": [
        "# 😀 Yüz Algılama (Haar Cascade)\n",
        "face_cascade = cv2.CascadeClassifier(cv2.data.haarcascades + 'haarcascade_frontalface_default.xml')\n",
        "faces = face_cascade.detectMultiScale(gray, 1.1, 4)\n",
        "\n",
        "for (x, y, w, h) in faces:\n",
        "    cv2.rectangle(image, (x, y), (x + w, y + h), (255, 0, 0), 2)\n",
        "\n",
        "cv2_imshow(image)"
      ]
    }
  ],
  "metadata": {
    "kernelspec": {
      "display_name": "Python 3",
      "language": "python",
      "name": "python3"
    },
    "language_info": {
      "name": "python",
      "version": "3.9"
    }
  },
  "nbformat": 4,
  "nbformat_minor": 5
}
