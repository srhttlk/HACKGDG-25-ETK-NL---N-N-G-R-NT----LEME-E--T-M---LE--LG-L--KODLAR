{
  "cells": [
    {
      "cell_type": "markdown",
      "metadata": {},
      "source": [
        "# ✋ Teachable Machine .keras Modeli ile Görüntü Sınıflandırma Demo\n",
        "**Bu demo, Teachable Machine sitesinden indirilen bir `.keras` model dosyasını kullanarak görsel sınıflandırma yapar.**\n",
        "\n",
        "⚠️ `model.h5` ya da `.keras` dosyasını indirip bu notebook ile aynı dizine koymalısınız."
      ]
    },
    {
      "cell_type": "code",
      "execution_count": null,
      "metadata": {},
      "outputs": [],
      "source": [
        "!pip install tensorflow pillow numpy"
      ]
    },
    {
      "cell_type": "code",
      "execution_count": null,
      "metadata": {},
      "outputs": [],
      "source": [
        "import tensorflow as tf\n",
        "import numpy as np\n",
        "from tensorflow.keras.preprocessing import image\n",
        "from PIL import Image\n",
        "\n",
        "# Modeli yükle\n",
        "model = tf.keras.models.load_model('model.keras')  # veya .h5\n",
        "\n",
        "# Görseli yükle\n",
        "img = Image.open('ornek.jpg').resize((224, 224))\n",
        "img_array = image.img_to_array(img) / 255.0\n",
        "img_array = np.expand_dims(img_array, axis=0)\n",
        "\n",
        "# Tahmin yap\n",
        "predictions = model.predict(img_array)\n",
        "print(\"Tahmin skoru:\", predictions)\n",
        "print(\"Tahmin edilen sınıf:\", np.argmax(predictions))"
      ]
    }
  ],
  "metadata": {
    "kernelspec": {
      "display_name": "Python 3",
      "language": "python",
      "name": "python3"
    },
    "language_info": {
      "name": "python",
      "version": "3.9"
    }
  },
  "nbformat": 4,
  "nbformat_minor": 5
}
