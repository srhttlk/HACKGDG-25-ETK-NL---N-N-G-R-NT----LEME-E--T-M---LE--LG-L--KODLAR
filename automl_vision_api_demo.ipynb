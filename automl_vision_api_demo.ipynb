{
  "cells": [
    {
      "cell_type": "markdown",
      "metadata": {},
      "source": [
        "# 📦 AutoML Vision API ile Görsel Sınıflandırma Demo\n",
        "**Bu notebook, AutoML Vision tarafından eğitilmiş bir modelin REST API üzerinden nasıl çağrılacağını gösterir.**\n",
        "\n",
        "⚠️ Çalıştırmak için bir Google Cloud projenizin ve yayınlanmış bir AutoML Vision modelinizin olması gerekir."
      ]
    },
    {
      "cell_type": "code",
      "execution_count": null,
      "metadata": {},
      "outputs": [],
      "source": [
        "# Gerekli kütüphane\n",
        "!pip install google-auth requests"
      ]
    },
    {
      "cell_type": "code",
      "execution_count": null,
      "metadata": {},
      "outputs": [],
      "source": [
        "import base64\n",
        "import json\n",
        "import requests\n",
        "from google.auth import default\n",
        "from google.auth.transport.requests import Request\n",
        "\n",
        "# Yetkilendirme al\n",
        "creds, _ = default()\n",
        "creds.refresh(Request())\n",
        "token = creds.token\n",
        "\n",
        "# Görseli base64 olarak oku\n",
        "image_path = 'ornek.jpg'\n",
        "with open(image_path, 'rb') as image_file:\n",
        "    encoded_image = base64.b64encode(image_file.read()).decode('utf-8')\n",
        "\n",
        "# AutoML REST endpoint (kendine göre düzenle)\n",
        "url = \"https://automl.googleapis.com/v1/projects/YOUR_PROJECT_ID/locations/us-central1/models/YOUR_MODEL_ID:predict\"\n",
        "\"\"\"\n",
        "\n",
        "YOUR_PROJECT_ID ve YOUR_MODEL_ID Nasıl Bulunur?\n",
        "1. Google Cloud Console’a Git\n",
        "\n",
        "2.Proje Kimliği (YOUR_PROJECT_ID)\n",
        "\n",
        "Sol üstte \"Seçili proje\" yazan yere tıkla.\n",
        "\n",
        "Açılan pencerede, projenin altındaki “Proje Kimliği” ifadesi → YOUR_PROJECT_ID\n",
        "\n",
        "\n",
        "\n",
        "3.Model Kimliği (YOUR_MODEL_ID)\n",
        "\n",
        "Menüden şu yolu izle:\n",
        "Yapay Zeka > Vertex AI > Modeller\n",
        "\n",
        "Liste halinde tüm modeller görünür.\n",
        "\n",
        "Kendi modelinin adına tıkla.\n",
        "\n",
        "URL’nin sonunda ya da \"Model kimliği\" yazan yerde → YOUR_MODEL_ID yazar.\"\"\"\n",
        "\n",
        "# API'ye gönderilecek veri\n",
        "payload = {\n",
        "    \"payload\": {\n",
        "        \"image\": {\n",
        "            \"imageBytes\": encoded_image\n",
        "        }\n",
        "    }\n",
        "}\n",
        "\n",
        "headers = {\n",
        "    \"Authorization\": f\"Bearer {token}\",\n",
        "    \"Content-Type\": \"application/json\"\n",
        "}\n",
        "\n",
        "response = requests.post(url, headers=headers, json=payload)\n",
        "print(response.json())"
      ]
    }
  ],
  "metadata": {
    "kernelspec": {
      "display_name": "Python 3",
      "language": "python",
      "name": "python3"
    },
    "language_info": {
      "name": "python",
      "version": "3.9"
    }
  },
  "nbformat": 4,
  "nbformat_minor": 5
}
