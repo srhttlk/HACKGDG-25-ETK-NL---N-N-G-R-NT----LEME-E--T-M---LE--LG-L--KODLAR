{
  "cells": [
    {
      "cell_type": "markdown",
      "metadata": {},
      "source": [
        "# \u270b MediaPipe ile El Takibi (Webcam \u00dczerinden)\n",
        "Bu demo, MediaPipe ve OpenCV kullanarak el takibini ger\u00e7ek zamanl\u0131 webcam \u00fczerinden yapar.\n",
        "**\u26a0\ufe0f NOT:** Bu kod Google Colab \u00fczerinde \u00e7al\u0131\u015fmaz. Yerel bilgisayar\u0131n\u0131zda Jupyter Notebook gibi bir ortamda \u00e7al\u0131\u015ft\u0131rmal\u0131s\u0131n\u0131z."
      ]
    },
    {
      "cell_type": "code",
      "metadata": {},
      "source": [
        "# Gerekli k\u00fct\u00fcphaneleri y\u00fckleyin\n",
        "!pip install mediapipe opencv-python"
      ]
    },
    {
      "cell_type": "code",
      "metadata": {},
      "source": [
        "import cv2\n",
        "import mediapipe as mp\n",
        "\n",
        "mp_drawing = mp.solutions.drawing_utils\n",
        "mp_hands = mp.solutions.hands\n",
        "\n",
        "cap = cv2.VideoCapture(0)\n",
        "\n",
        "with mp_hands.Hands(min_detection_confidence=0.5, min_tracking_confidence=0.5) as hands:\n",
        "    while cap.isOpened():\n",
        "        success, image = cap.read()\n",
        "        if not success:\n",
        "            break\n",
        "        image = cv2.flip(image, 1)\n",
        "        image_rgb = cv2.cvtColor(image, cv2.COLOR_BGR2RGB)\n",
        "        results = hands.process(image_rgb)\n",
        "\n",
        "        if results.multi_hand_landmarks:\n",
        "            for hand_landmarks in results.multi_hand_landmarks:\n",
        "                mp_drawing.draw_landmarks(\n",
        "                    image, hand_landmarks, mp_hands.HAND_CONNECTIONS)\n",
        "\n",
        "        cv2.imshow('MediaPipe El Takibi', image)\n",
        "        if cv2.waitKey(5) & 0xFF == 27:\n",
        "            break\n",
        "\n",
        "cap.release()\n",
        "cv2.destroyAllWindows()"
      ]
    }
  ],
  "metadata": {
    "kernelspec": {
      "display_name": "Python 3",
      "language": "python",
      "name": "python3"
    },
    "language_info": {
      "name": "python",
      "version": "3.9"
    }
  },
  "nbformat": 4,
  "nbformat_minor": 5
}